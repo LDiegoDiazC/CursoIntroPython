{
 "cells": [
  {
   "cell_type": "markdown",
   "metadata": {},
   "source": [
    "# Tercer Kata\n",
    "\n",
    "Lógica condicional que imprima una advertencia si un asteroide se acerca a la Tierra demasiado rápido. "
   ]
  },
  {
   "cell_type": "code",
   "execution_count": 1,
   "metadata": {},
   "outputs": [
    {
     "name": "stdout",
     "output_type": "stream",
     "text": [
      "¡Alerta! ¡Un asteroide se acerca a velocidades peligrosas!\n"
     ]
    }
   ],
   "source": [
    "# Añadir el código necesario para crear una variable que guarde la velocidad del asteroide.\n",
    "# Escribe una expresión de prueba para calcular si necesita una advertencia.\n",
    "# Agregue las instrucciones que se ejecutarán si la expresión de prueba es true o false.\n",
    "\n",
    "#Un asteroide se acerca, y viaja a una velocidad de 49 km/s.\n",
    "#Cualquier velocidad superior a 25 kilómetros por segundo (km/s) merece una advertencia.\n",
    "\n",
    "#Velocidad Asteroide\n",
    "asteroide = 49\n",
    "\n",
    "#Velocidad Maxima\n",
    "vel_max = 25\n",
    "\n",
    "if asteroide > vel_max:\n",
    "    print('¡Peligro! ¡Un asteroide supero los 25 (km/s)!')\n",
    "else:\n",
    "    print('¡Nada de que preocuparse!')"
   ]
  },
  {
   "cell_type": "markdown",
   "metadata": {},
   "source": [
    "Solución 2:"
   ]
  },
  {
   "cell_type": "code",
   "execution_count": 2,
   "metadata": {},
   "outputs": [
    {
     "name": "stdout",
     "output_type": "stream",
     "text": [
      "¡Sin novedad!\n"
     ]
    }
   ],
   "source": [
    "# Agrega el código para crear una variable para un asteroide que viaja a 19 km/s\n",
    "# Escribe varias expresiones de prueba para determinar si puedes ver el rayo de luz desde la tierra\n",
    "# Agrega las instrucciones que se ejecutarán si las expresiones de prueba son True o False\n",
    "\n",
    "#A veces produce un rayo de luz que se puede ver, si un asteroide entra en la atmósfera de la Tierra \n",
    "#a una velocidad mayor o igual a 20 km/s\n",
    "\n",
    "#¡Hay uno que se dirige a la tierra ahora a una velocidad de 19 km/s!\n",
    "\n",
    "#Velocidad Asteroide\n",
    "asteroide = 19\n",
    "\n",
    "#Velocidad Para Ver Rayo de Luz\n",
    "velocidad = 20\n",
    "\n",
    "if asteroide > velocidad:\n",
    "    print('¡Sal de tu casa! ¡Voltea al cielo, podrías sorprenderte!')\n",
    "elif asteroide == velocidad:\n",
    "    print('¡Sal de tu casa! ¡Voltea al cielo, podrías sorprenderte!')\n",
    "else:\n",
    "    print('¡Sin novedad!')"
   ]
  },
  {
   "cell_type": "markdown",
   "metadata": {},
   "source": [
    "Solución 3:"
   ]
  },
  {
   "cell_type": "code",
   "execution_count": 3,
   "metadata": {},
   "outputs": [
    {
     "name": "stdout",
     "output_type": "stream",
     "text": [
      "¡Sal de tu casa! ¡Voltea al cielo, podrías sorprenderte!\n"
     ]
    }
   ],
   "source": [
    "# Agrega el código para crear nuevas variables para la velocidad y el tamaño del asteroide\n",
    "# Para probar el código, prueba con varias velocidades y tamaños\n",
    "# Escribe varias expresiones de prueba o combinaciones de expresiones de prueba para determinar \n",
    "# qué mensaje se debe enviar a Tierra.\n",
    "\n",
    "#Los asteroides de menos de 25 metros en su dimensión más grande probablemente se quemarán \n",
    "# a medida que entren en la atmósfera de la Tierra.\n",
    "\n",
    "#Un asteroide que es más grande que 25 metros pero más pequeña que 1000 metros golpeara la Tierra, causaría mucho daño.\n",
    "\n",
    "#Velocidad superior a 25 kilómetros por segundo (km/s) merece una advertencia.\n",
    "\n",
    "#Si un asteroide entra en la atmósfera de la Tierra a una velocidad mayor o igual a 20 km/s, \n",
    "#a veces produce un rayo de luz que se puede ver desde la Tierra.\n",
    "\n",
    "#Velocidad del Asteroide\n",
    "asteroide = 25\n",
    "\n",
    "#Tamaño del Asteroide\n",
    "tam_aste = 40\n",
    "\n",
    "#Tamaño Máximo del Asteroide\n",
    "tam_max = 25\n",
    "\n",
    "#Velocidad Máxima del Asteroide\n",
    "vel_max = 25\n",
    "\n",
    "#Velocidad Para Ver Rayo de Luz\n",
    "vel_ray = 20\n",
    "\n",
    "if asteroide > vel_max and tam_aste > tam_max:\n",
    "    print('¡Peligro!, ¡Un asteroide supero los 25 (km/s) y los 25 metros!')\n",
    "elif asteroide >= vel_ray:\n",
    "    print('¡Sal de tu casa! ¡Voltea al cielo, podrías sorprenderte!')\n",
    "elif tam_aste < tam_max:\n",
    "    print('¡Nada de que preocuparse!')\n",
    "else:\n",
    "    print('Sin Novedad :D')"
   ]
  }
 ],
 "metadata": {
  "interpreter": {
   "hash": "aee8b7b246df8f9039afb4144a1f6fd8d2ca17a180786b69acc140d282b71a49"
  },
  "kernelspec": {
   "display_name": "Python 3.10.2 64-bit",
   "language": "python",
   "name": "python3"
  },
  "language_info": {
   "codemirror_mode": {
    "name": "ipython",
    "version": 3
   },
   "file_extension": ".py",
   "mimetype": "text/x-python",
   "name": "python",
   "nbconvert_exporter": "python",
   "pygments_lexer": "ipython3",
   "version": "3.10.2"
  },
  "orig_nbformat": 4
 },
 "nbformat": 4,
 "nbformat_minor": 2
}
