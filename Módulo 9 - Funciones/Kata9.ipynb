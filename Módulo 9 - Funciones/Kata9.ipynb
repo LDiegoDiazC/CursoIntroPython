{
 "cells": [
  {
   "cell_type": "markdown",
   "metadata": {},
   "source": [
    "# Noveno Kata\n",
    "\n",
    "# Ejercicio 1: Uso de ciclos while en Python\n",
    "\n",
    "Solució 1:\n",
    "\n",
    "Comienza por crear una función que necesite tres lecturas de combustible y devuelva un informe (promedio)."
   ]
  },
  {
   "cell_type": "code",
   "execution_count": 82,
   "metadata": {},
   "outputs": [],
   "source": [
    "# Función para leer 3 tanques de combustible y muestre el promedio\n",
    "\n",
    "def reporte(t_1, t_2, t_3):\n",
    "    promedio = (t_1 + t_2 + t_3) / 3\n",
    "    return f\"\"\" Reporte:\n",
    "    Promedio: {promedio}%\n",
    "    Tanque 1: {t_1}%\n",
    "    Tanque 2: {t_2}%\n",
    "    Tanquue 3: {t_3}% \n",
    "    \"\"\""
   ]
  },
  {
   "cell_type": "markdown",
   "metadata": {},
   "source": [
    "Solución 2:\n",
    "\n",
    "Ahora que hemos definido la función de informes, vamos a comprobarlo. Para esta misión, los tanques no están llenos:"
   ]
  },
  {
   "cell_type": "code",
   "execution_count": 83,
   "metadata": {},
   "outputs": [
    {
     "name": "stdout",
     "output_type": "stream",
     "text": [
      " Reporte:\n",
      "    Promedio: 65.66666666666667%\n",
      "    Tanque 1: 83%\n",
      "    Tanque 2: 69%\n",
      "    Tanquue 3: 45% \n",
      "    \n"
     ]
    }
   ],
   "source": [
    "# Llamamos a la función que genera el reporte print(funcion(tanque1, tanque2, tanque3))\n",
    "\n",
    "print(reporte(83, 69, 45))"
   ]
  },
  {
   "cell_type": "markdown",
   "metadata": {},
   "source": [
    "Solución 3:\n",
    "\n",
    "En lugar de simplemente crear el informe, la función también está calculando el promedio. Mejora la legibilidad extrayendo el cálculo promedio de la función en una nueva función para que el promedio se pueda hacer de forma independiente."
   ]
  },
  {
   "cell_type": "code",
   "execution_count": 84,
   "metadata": {},
   "outputs": [
    {
     "data": {
      "text/plain": [
       "65.66666666666667"
      ]
     },
     "execution_count": 84,
     "metadata": {},
     "output_type": "execute_result"
    }
   ],
   "source": [
    "# Función promedio \n",
    "def promedio(values):\n",
    "    total = sum(values)\n",
    "    tanques = len(values)\n",
    "    return total / tanques\n",
    "\n",
    "# Impresión de muestra:\n",
    "promedio([83, 69, 45]) "
   ]
  },
  {
   "cell_type": "markdown",
   "metadata": {},
   "source": [
    "Solución 4:\n",
    "\n",
    "Ahora actualiza la función de informes para llamando a la nueva función del promedio."
   ]
  },
  {
   "cell_type": "code",
   "execution_count": 85,
   "metadata": {},
   "outputs": [
    {
     "name": "stdout",
     "output_type": "stream",
     "text": [
      " Reporte:\n",
      "    Promedio: 65.66666666666667%\n",
      "    Tanque 1: 83%\n",
      "    Tanque 2: 69%\n",
      "    Tanquue 3: 45% \n",
      "    \n"
     ]
    }
   ],
   "source": [
    "# Actualiza la función\n",
    "def reporte(t_1, t_2, t_3):\n",
    "    return f\"\"\" Reporte:\n",
    "    Promedio: {promedio([t_1, t_2, t_3])}%\n",
    "    Tanque 1: {t_1}%\n",
    "    Tanque 2: {t_2}%\n",
    "    Tanquue 3: {t_3}% \n",
    "    \"\"\"\n",
    "\n",
    "# Impresión de muestra:\n",
    "print(reporte(83, 69, 45))"
   ]
  },
  {
   "cell_type": "markdown",
   "metadata": {},
   "source": [
    "# Ejercicio 2: Trabajo con argumentos de palabra clave\n",
    "\n",
    "Solución 1:\n",
    "\n",
    "En este ejercicio, construirás un informe de cohete que requiere varias piezas de información, como el tiempo hasta el destino, el combustible a la izquierda y el nombre del destino. Comienza por crear una función que creará un informe preciso de la misión:"
   ]
  },
  {
   "cell_type": "code",
   "execution_count": 86,
   "metadata": {},
   "outputs": [
    {
     "name": "stdout",
     "output_type": "stream",
     "text": [
      "\n",
      "    Misión a: Saturno\n",
      "    Tiempo total de vuelo: 85 minutos\n",
      "    Total de combustible: 800000 galones\n",
      "    \n"
     ]
    }
   ],
   "source": [
    "# Función con un informe preciso de la misión. Considera hora de prelanzamiento, tiempo de vuelo, destino, tanque externo y tanque interno\n",
    "\n",
    "def m_reporte(pre_vuelo, t_vuelo, destino, t_i, t_e):\n",
    "    return f\"\"\"\n",
    "    Misión a: {destino}\n",
    "    Tiempo total de vuelo: {pre_vuelo + t_vuelo} minutos\n",
    "    Total de combustible: {t_i + t_e} galones\n",
    "    \"\"\"\n",
    "\n",
    "print(m_reporte(10, 75, \"Saturno\", 300000, 500000))"
   ]
  },
  {
   "cell_type": "markdown",
   "metadata": {},
   "source": [
    "Solución 2:\n",
    "\n",
    "La función es problemática porque no se puede adaptar para minutos adicionales o tanques adicionales de combustible. Hazlo más flexible permitiendo cualquier número de pasos basados en el tiempo y cualquier número de tanques. En lugar de usar *args y **kwargs, aprovecha el hecho de que puedes usar cualquier nombre que desees. Asegurate que la función sea más legible mediante el uso de nombres de variables que están asociados con las entradas, como *minutos y **reserva de combustible."
   ]
  },
  {
   "cell_type": "code",
   "execution_count": 87,
   "metadata": {},
   "outputs": [
    {
     "name": "stdout",
     "output_type": "stream",
     "text": [
      "\n",
      "    Misión a: Saturno\n",
      "    Tiempo total de vuelo: 85 minutos\n",
      "    Total de combustible: 800000 galones\n",
      "    \n"
     ]
    }
   ],
   "source": [
    "def m_reporte(destino, *minutos, **res_com):\n",
    "    return f\"\"\"\n",
    "    Misión a: {destino}\n",
    "    Tiempo total de vuelo: {sum(minutos)} minutos\n",
    "    Total de combustible: {sum(res_com.values())} galones\n",
    "    \"\"\"\n",
    "\n",
    "print(m_reporte(\"Saturno\", 10,  75, interno = 300000, externo = 500000))"
   ]
  },
  {
   "cell_type": "markdown",
   "metadata": {},
   "source": [
    "Solución 3:\n",
    "\n",
    "Debido a que el combustible que queda en los tanques es específico de cada tanque, actualiza la función para usar el nombre de cada tanque en el informe."
   ]
  },
  {
   "cell_type": "code",
   "execution_count": 88,
   "metadata": {},
   "outputs": [
    {
     "name": "stdout",
     "output_type": "stream",
     "text": [
      "\n",
      "    Misión a: Saturno\n",
      "    Tiempo total de vuelo: 85 minutos\n",
      "    Total de combustible: 800000 galones\n",
      "    Tanque Interno --> 300000 galones disponibles\n",
      "Tanque Externo --> 500000 galones disponibles\n",
      "\n"
     ]
    }
   ],
   "source": [
    "def m_reporte(destino, *minutos, **res_com):\n",
    "    reporte_t = f\"\"\"\n",
    "    Misión a: {destino}\n",
    "    Tiempo total de vuelo: {sum(minutos)} minutos\n",
    "    Total de combustible: {sum(res_com.values())} galones\n",
    "    \"\"\"\n",
    "\n",
    "    for nombre_t, galones in res_com.items():\n",
    "        reporte_t += f\"Tanque {nombre_t} --> {galones} galones disponibles\\n\"\n",
    "    return reporte_t\n",
    "\n",
    "print(m_reporte(\"Saturno\", 10,  75, Interno = 300000, Externo = 500000))"
   ]
  }
 ],
 "metadata": {
  "interpreter": {
   "hash": "aee8b7b246df8f9039afb4144a1f6fd8d2ca17a180786b69acc140d282b71a49"
  },
  "kernelspec": {
   "display_name": "Python 3.10.4 64-bit",
   "language": "python",
   "name": "python3"
  },
  "language_info": {
   "codemirror_mode": {
    "name": "ipython",
    "version": 3
   },
   "file_extension": ".py",
   "mimetype": "text/x-python",
   "name": "python",
   "nbconvert_exporter": "python",
   "pygments_lexer": "ipython3",
   "version": "3.10.4"
  },
  "orig_nbformat": 4
 },
 "nbformat": 4,
 "nbformat_minor": 2
}
